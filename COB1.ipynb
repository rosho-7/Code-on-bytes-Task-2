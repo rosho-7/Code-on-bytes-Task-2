{
  "nbformat": 4,
  "nbformat_minor": 0,
  "metadata": {
    "colab": {
      "provenance": [],
      "authorship_tag": "ABX9TyOSitDhU+LdJ8EtGXWn7+xU",
      "include_colab_link": true
    },
    "kernelspec": {
      "name": "python3",
      "display_name": "Python 3"
    },
    "language_info": {
      "name": "python"
    }
  },
  "cells": [
    {
      "cell_type": "markdown",
      "metadata": {
        "id": "view-in-github",
        "colab_type": "text"
      },
      "source": [
        "<a href=\"https://colab.research.google.com/github/rosho-7/Code-on-bytes-Task-2/blob/main/COB1.ipynb\" target=\"_parent\"><img src=\"https://colab.research.google.com/assets/colab-badge.svg\" alt=\"Open In Colab\"/></a>"
      ]
    },
    {
      "cell_type": "code",
      "execution_count": null,
      "metadata": {
        "colab": {
          "base_uri": "https://localhost:8080/"
        },
        "id": "Y0JybL0lKfCU",
        "outputId": "9d00fb4f-edef-4261-bae3-a3b100ed0c3f"
      },
      "outputs": [
        {
          "output_type": "stream",
          "name": "stdout",
          "text": [
            "'the': 6 times\n",
            "'sunset': 1 times\n",
            "'painted': 1 times\n",
            "'sky': 1 times\n",
            "'in': 1 times\n",
            "'a': 2 times\n",
            "'breathtaking': 1 times\n",
            "'palette': 1 times\n",
            "'of': 2 times\n",
            "'warm': 1 times\n",
            "'oranges': 1 times\n",
            "'and': 2 times\n",
            "'pinks': 1 times\n",
            "'casting': 1 times\n",
            "'long': 1 times\n",
            "'shadows': 1 times\n",
            "'across': 1 times\n",
            "'landscape': 1 times\n",
            "'as': 1 times\n",
            "'sun': 1 times\n",
            "'dipped': 1 times\n",
            "'below': 1 times\n",
            "'horizon': 1 times\n",
            "'serene': 1 times\n",
            "'sense': 1 times\n",
            "'peace': 1 times\n",
            "'wonder': 1 times\n",
            "'washed': 1 times\n",
            "'over': 1 times\n",
            "'those': 1 times\n",
            "'who': 1 times\n",
            "'witnessed': 1 times\n",
            "'evening's': 1 times\n",
            "'natural': 1 times\n",
            "'spectacle': 1 times\n"
          ]
        }
      ],
      "source": [
        "with open(\"rosh.txt\", \"w\") as file:\n",
        "    file.write(\"The sunset painted the sky in a breathtaking palette of warm oranges and pinks, casting long shadows across the landscape. As the sun dipped below the horizon, a serene sense of peace and wonder washed over those who witnessed the evening's natural spectacle.\")\n",
        "count = {}\n",
        "with open(\"rosh.txt\", \"r\") as file:\n",
        "    text = file.read()\n",
        "    words = text.split()\n",
        "\n",
        "    for word in words:\n",
        "        x= word.strip(\".,!?\").lower()\n",
        "        if x in count:\n",
        "            count[x] += 1\n",
        "        else:\n",
        "            count[x] = 1\n",
        "for word, count in count.items():\n",
        "    print(f\"'{word}': {count} times\")\n",
        "\n"
      ]
    }
  ]
}